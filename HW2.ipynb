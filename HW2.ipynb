{
 "cells": [
  {
   "attachments": {},
   "cell_type": "markdown",
   "metadata": {},
   "source": [
    "# Homework 2\n",
    "\n",
    "This notebook is used to analyze the data created in `get_reddit_posts.py`.\n",
    "\n",
    "## Imports"
   ]
  },
  {
   "cell_type": "code",
   "execution_count": 2,
   "metadata": {},
   "outputs": [],
   "source": [
    "import pandas as pd"
   ]
  },
  {
   "attachments": {},
   "cell_type": "markdown",
   "metadata": {},
   "source": [
    "## Import our data\n"
   ]
  },
  {
   "cell_type": "code",
   "execution_count": 4,
   "metadata": {},
   "outputs": [
    {
     "data": {
      "text/html": [
       "<div>\n",
       "<style scoped>\n",
       "    .dataframe tbody tr th:only-of-type {\n",
       "        vertical-align: middle;\n",
       "    }\n",
       "\n",
       "    .dataframe tbody tr th {\n",
       "        vertical-align: top;\n",
       "    }\n",
       "\n",
       "    .dataframe thead th {\n",
       "        text-align: right;\n",
       "    }\n",
       "</style>\n",
       "<table border=\"1\" class=\"dataframe\">\n",
       "  <thead>\n",
       "    <tr style=\"text-align: right;\">\n",
       "      <th></th>\n",
       "      <th>Unnamed: 0</th>\n",
       "      <th>id</th>\n",
       "      <th>score</th>\n",
       "      <th>created_utc</th>\n",
       "      <th>body</th>\n",
       "      <th>parent_id</th>\n",
       "      <th>author</th>\n",
       "    </tr>\n",
       "  </thead>\n",
       "  <tbody>\n",
       "    <tr>\n",
       "      <th>0</th>\n",
       "      <td>0</td>\n",
       "      <td>dneqzng</td>\n",
       "      <td>6857</td>\n",
       "      <td>1.506195e+09</td>\n",
       "      <td>That girl is more frat than every guy in that ...</td>\n",
       "      <td>t3_71zf07</td>\n",
       "      <td>Only_Validates_Names</td>\n",
       "    </tr>\n",
       "    <tr>\n",
       "      <th>1</th>\n",
       "      <td>1</td>\n",
       "      <td>dnen7m2</td>\n",
       "      <td>12095</td>\n",
       "      <td>1.506190e+09</td>\n",
       "      <td>I've watched this video about 10 times now and...</td>\n",
       "      <td>t3_71zf07</td>\n",
       "      <td>scooch_mgooch</td>\n",
       "    </tr>\n",
       "    <tr>\n",
       "      <th>2</th>\n",
       "      <td>2</td>\n",
       "      <td>dner7ni</td>\n",
       "      <td>13611</td>\n",
       "      <td>1.506195e+09</td>\n",
       "      <td>Someday she is going to be living in suburbia ...</td>\n",
       "      <td>t3_71zf07</td>\n",
       "      <td>silentjay01</td>\n",
       "    </tr>\n",
       "    <tr>\n",
       "      <th>3</th>\n",
       "      <td>3</td>\n",
       "      <td>dnep6b6</td>\n",
       "      <td>4768</td>\n",
       "      <td>1.506193e+09</td>\n",
       "      <td>So Steve Austin has a daughter who goes to col...</td>\n",
       "      <td>t3_71zf07</td>\n",
       "      <td>caddy_gent</td>\n",
       "    </tr>\n",
       "    <tr>\n",
       "      <th>4</th>\n",
       "      <td>4</td>\n",
       "      <td>dneszm4</td>\n",
       "      <td>957</td>\n",
       "      <td>1.506198e+09</td>\n",
       "      <td>AND catches one handed.</td>\n",
       "      <td>t3_71zf07</td>\n",
       "      <td>[deleted]</td>\n",
       "    </tr>\n",
       "  </tbody>\n",
       "</table>\n",
       "</div>"
      ],
      "text/plain": [
       "   Unnamed: 0       id  score   created_utc  \\\n",
       "0           0  dneqzng   6857  1.506195e+09   \n",
       "1           1  dnen7m2  12095  1.506190e+09   \n",
       "2           2  dner7ni  13611  1.506195e+09   \n",
       "3           3  dnep6b6   4768  1.506193e+09   \n",
       "4           4  dneszm4    957  1.506198e+09   \n",
       "\n",
       "                                                body  parent_id  \\\n",
       "0  That girl is more frat than every guy in that ...  t3_71zf07   \n",
       "1  I've watched this video about 10 times now and...  t3_71zf07   \n",
       "2  Someday she is going to be living in suburbia ...  t3_71zf07   \n",
       "3  So Steve Austin has a daughter who goes to col...  t3_71zf07   \n",
       "4                           AND catches one handed.   t3_71zf07   \n",
       "\n",
       "                 author  \n",
       "0  Only_Validates_Names  \n",
       "1         scooch_mgooch  \n",
       "2           silentjay01  \n",
       "3            caddy_gent  \n",
       "4             [deleted]  "
      ]
     },
     "execution_count": 4,
     "metadata": {},
     "output_type": "execute_result"
    }
   ],
   "source": [
    "comments_df = pd.read_csv('data/comments_df_10.csv')\n",
    "\n",
    "# print the first five rows\n",
    "comments_df.head()"
   ]
  },
  {
   "attachments": {},
   "cell_type": "markdown",
   "metadata": {},
   "source": [
    "## Convert dates\n",
    "We will convert dates from Unix time to a more readable format."
   ]
  },
  {
   "cell_type": "code",
   "execution_count": 5,
   "metadata": {},
   "outputs": [],
   "source": [
    "# from: https://stackoverflow.com/questions/19231871/\n",
    "comments_df['created_time'] = pd.to_datetime(comments_df['created_utc'], unit='s')\n"
   ]
  },
  {
   "cell_type": "code",
   "execution_count": null,
   "metadata": {},
   "outputs": [],
   "source": []
  }
 ],
 "metadata": {
  "kernelspec": {
   "display_name": "py39",
   "language": "python",
   "name": "python3"
  },
  "language_info": {
   "codemirror_mode": {
    "name": "ipython",
    "version": 3
   },
   "file_extension": ".py",
   "mimetype": "text/x-python",
   "name": "python",
   "nbconvert_exporter": "python",
   "pygments_lexer": "ipython3",
   "version": "3.9.16"
  },
  "orig_nbformat": 4
 },
 "nbformat": 4,
 "nbformat_minor": 2
}
